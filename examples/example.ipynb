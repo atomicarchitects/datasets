{
 "cells": [
  {
   "cell_type": "code",
   "execution_count": 1,
   "metadata": {},
   "outputs": [],
   "source": [
    "import tqdm\n",
    "\n",
    "from atomic_datasets.datasets import QM9Dataset, tmQMDataset, GEOMDrugsDataset"
   ]
  },
  {
   "cell_type": "code",
   "execution_count": 2,
   "metadata": {},
   "outputs": [],
   "source": [
    "dataset = QM9Dataset(\n",
    "    root_dir=\"data/qm9\",\n",
    "    check_with_rdkit=False\n",
    ")\n",
    "\n",
    "dataset = tmQMDataset(\n",
    "    root_dir=\"data/tmqm\",\n",
    ")\n",
    "\n",
    "dataset = GEOMDrugsDataset(\n",
    "    root_dir=\"data/geom_drugs\",\n",
    ")"
   ]
  },
  {
   "cell_type": "code",
   "execution_count": 3,
   "metadata": {},
   "outputs": [
    {
     "name": "stdout",
     "output_type": "stream",
     "text": [
      "Downloading GEOM (Drugs) dataset to data/geom_drugs...\n",
      "Downloading https://zenodo.org/records/7881981/files/EDM.tar.gz to data/geom_drugs/EDM.tar.gz\n"
     ]
    },
    {
     "name": "stderr",
     "output_type": "stream",
     "text": [
      "  3%|▎         | 208784384/8181297715 [01:22<1:24:50, 1566299.22it/s]"
     ]
    }
   ],
   "source": [
    "for graph in dataset:\n",
    "    print(graph)"
   ]
  }
 ],
 "metadata": {
  "kernelspec": {
   "display_name": ".venv",
   "language": "python",
   "name": "python3"
  },
  "language_info": {
   "codemirror_mode": {
    "name": "ipython",
    "version": 3
   },
   "file_extension": ".py",
   "mimetype": "text/x-python",
   "name": "python",
   "nbconvert_exporter": "python",
   "pygments_lexer": "ipython3",
   "version": "3.11.4"
  }
 },
 "nbformat": 4,
 "nbformat_minor": 2
}
