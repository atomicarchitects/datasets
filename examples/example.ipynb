{
 "cells": [
  {
   "cell_type": "code",
   "execution_count": 1,
   "metadata": {},
   "outputs": [],
   "source": [
    "import tqdm\n",
    "\n",
    "from atomic_datasets import QM9Dataset, tmQMDataset, GEOMDrugsDataset"
   ]
  },
  {
   "cell_type": "code",
   "execution_count": 2,
   "metadata": {},
   "outputs": [],
   "source": [
    "dataset = QM9Dataset(\n",
    "    root_dir=\"data/qm9\",\n",
    "    check_with_rdkit=False\n",
    ")\n",
    "\n",
    "dataset = tmQMDataset(\n",
    "    root_dir=\"data/tmqm\",\n",
    ")\n",
    "\n",
    "dataset = GEOMDrugsDataset(\n",
    "    root_dir=\"data/geom_drugs\",\n",
    ")"
   ]
  },
  {
   "cell_type": "code",
   "execution_count": 3,
   "metadata": {},
   "outputs": [
    {
     "name": "stdout",
     "output_type": "stream",
     "text": [
      "Downloading GEOM (Drugs) dataset to data/geom_drugs\n",
      "Using downloaded file: data/geom_drugs/EDM.tar.gz\n",
      "Unzipping data/geom_drugs/EDM.tar.gz\n"
     ]
    },
    {
     "ename": "ErrorReturnCode_1",
     "evalue": "\n\n  RAN: /usr/bin/gunzip data/geom_drugs/EDM.tar.gz\n\n  STDOUT:\n\n\n  STDERR:\ngunzip: data/geom_drugs/EDM.tar.gz: unexpected end of file\ngunzip: data/geom_drugs/EDM.tar.gz: uncompress failed\n",
     "output_type": "error",
     "traceback": [
      "\u001b[0;31m---------------------------------------------------------------------------\u001b[0m",
      "\u001b[0;31mErrorReturnCode_1\u001b[0m                         Traceback (most recent call last)",
      "Cell \u001b[0;32mIn[3], line 1\u001b[0m\n\u001b[0;32m----> 1\u001b[0m \u001b[38;5;28;43;01mfor\u001b[39;49;00m\u001b[43m \u001b[49m\u001b[43mgraph\u001b[49m\u001b[43m \u001b[49m\u001b[38;5;129;43;01min\u001b[39;49;00m\u001b[43m \u001b[49m\u001b[43mdataset\u001b[49m\u001b[43m:\u001b[49m\n\u001b[1;32m      2\u001b[0m \u001b[43m    \u001b[49m\u001b[38;5;28;43mprint\u001b[39;49m\u001b[43m(\u001b[49m\u001b[43mgraph\u001b[49m\u001b[43m)\u001b[49m\n",
      "File \u001b[0;32m~/Documents/datasets/atomic_datasets/datasets/geom_drugs.py:34\u001b[0m, in \u001b[0;36mGEOMDrugsDataset.__iter__\u001b[0;34m(self)\u001b[0m\n\u001b[1;32m     32\u001b[0m \u001b[38;5;28;01mdef\u001b[39;00m\u001b[38;5;250m \u001b[39m\u001b[38;5;21m__iter__\u001b[39m(\u001b[38;5;28mself\u001b[39m) \u001b[38;5;241m-\u001b[39m\u001b[38;5;241m>\u001b[39m Iterable[datatypes\u001b[38;5;241m.\u001b[39mGraph]:\n\u001b[1;32m     33\u001b[0m     \u001b[38;5;28;01mif\u001b[39;00m \u001b[38;5;129;01mnot\u001b[39;00m \u001b[38;5;28mself\u001b[39m\u001b[38;5;241m.\u001b[39mpreprocessed:\n\u001b[0;32m---> 34\u001b[0m         \u001b[38;5;28;43mself\u001b[39;49m\u001b[38;5;241;43m.\u001b[39;49m\u001b[43mpreprocess\u001b[49m\u001b[43m(\u001b[49m\u001b[43m)\u001b[49m\n\u001b[1;32m     36\u001b[0m     \u001b[38;5;28;01mwhile\u001b[39;00m \u001b[38;5;28;01mTrue\u001b[39;00m:\n\u001b[1;32m     37\u001b[0m         \u001b[38;5;28;01myield from\u001b[39;00m load_GEOM_drugs(\u001b[38;5;28mself\u001b[39m\u001b[38;5;241m.\u001b[39mroot_dir)\n",
      "File \u001b[0;32m~/Documents/datasets/atomic_datasets/datasets/geom_drugs.py:29\u001b[0m, in \u001b[0;36mGEOMDrugsDataset.preprocess\u001b[0;34m(self)\u001b[0m\n\u001b[1;32m     28\u001b[0m \u001b[38;5;28;01mdef\u001b[39;00m\u001b[38;5;250m \u001b[39m\u001b[38;5;21mpreprocess\u001b[39m(\u001b[38;5;28mself\u001b[39m):\n\u001b[0;32m---> 29\u001b[0m     \u001b[43mpreprocess\u001b[49m\u001b[43m(\u001b[49m\u001b[38;5;28;43mself\u001b[39;49m\u001b[38;5;241;43m.\u001b[39;49m\u001b[43mroot_dir\u001b[49m\u001b[43m)\u001b[49m\n\u001b[1;32m     30\u001b[0m     \u001b[38;5;28mself\u001b[39m\u001b[38;5;241m.\u001b[39mpreprocessed \u001b[38;5;241m=\u001b[39m \u001b[38;5;28;01mTrue\u001b[39;00m\n",
      "File \u001b[0;32m~/Documents/datasets/atomic_datasets/datasets/geom_drugs.py:47\u001b[0m, in \u001b[0;36mpreprocess\u001b[0;34m(root_dir)\u001b[0m\n\u001b[1;32m     45\u001b[0m \u001b[38;5;28mprint\u001b[39m(\u001b[38;5;124mf\u001b[39m\u001b[38;5;124m\"\u001b[39m\u001b[38;5;124mDownloading GEOM (Drugs) dataset to \u001b[39m\u001b[38;5;132;01m{\u001b[39;00mroot_dir\u001b[38;5;132;01m}\u001b[39;00m\u001b[38;5;124m\"\u001b[39m)\n\u001b[1;32m     46\u001b[0m path \u001b[38;5;241m=\u001b[39m utils\u001b[38;5;241m.\u001b[39mdownload_url(GEOM_DRUGS_URL, root_dir)\n\u001b[0;32m---> 47\u001b[0m path \u001b[38;5;241m=\u001b[39m \u001b[43mutils\u001b[49m\u001b[38;5;241;43m.\u001b[39;49m\u001b[43mextract_gz\u001b[49m\u001b[43m(\u001b[49m\u001b[43mpath\u001b[49m\u001b[43m)\u001b[49m\n\u001b[1;32m     48\u001b[0m path \u001b[38;5;241m=\u001b[39m utils\u001b[38;5;241m.\u001b[39mextract_tar(path)\n\u001b[1;32m     49\u001b[0m \u001b[38;5;28mprint\u001b[39m(\u001b[38;5;124m\"\u001b[39m\u001b[38;5;124mDownload complete.\u001b[39m\u001b[38;5;124m\"\u001b[39m)\n",
      "File \u001b[0;32m~/Documents/datasets/atomic_datasets/utils/download.py:93\u001b[0m, in \u001b[0;36mextract_gz\u001b[0;34m(path)\u001b[0m\n\u001b[1;32m     91\u001b[0m \u001b[38;5;250m\u001b[39m\u001b[38;5;124;03m\"\"\"Extract a .gz file, and return the path to the extracted file.\"\"\"\u001b[39;00m\n\u001b[1;32m     92\u001b[0m \u001b[38;5;28mprint\u001b[39m(\u001b[38;5;124mf\u001b[39m\u001b[38;5;124m\"\u001b[39m\u001b[38;5;124mUnzipping \u001b[39m\u001b[38;5;132;01m{\u001b[39;00mpath\u001b[38;5;132;01m}\u001b[39;00m\u001b[38;5;124m\"\u001b[39m)\n\u001b[0;32m---> 93\u001b[0m \u001b[43msh\u001b[49m\u001b[38;5;241;43m.\u001b[39;49m\u001b[43mgunzip\u001b[49m\u001b[43m(\u001b[49m\u001b[43mpath\u001b[49m\u001b[43m)\u001b[49m\n\u001b[1;32m     94\u001b[0m \u001b[38;5;66;03m# Remove the .gz extension\u001b[39;00m\n\u001b[1;32m     95\u001b[0m \u001b[38;5;28;01mreturn\u001b[39;00m path[:\u001b[38;5;241m-\u001b[39m\u001b[38;5;241m3\u001b[39m]\n",
      "File \u001b[0;32m~/Documents/datasets/.venv/lib/python3.11/site-packages/sh.py:1511\u001b[0m, in \u001b[0;36mCommand.__call__\u001b[0;34m(self, *args, **kwargs)\u001b[0m\n\u001b[1;32m   1508\u001b[0m \u001b[38;5;28;01mif\u001b[39;00m output_redirect_is_filename(stderr):\n\u001b[1;32m   1509\u001b[0m     stderr \u001b[38;5;241m=\u001b[39m \u001b[38;5;28mopen\u001b[39m(\u001b[38;5;28mstr\u001b[39m(stderr), \u001b[38;5;124m\"\u001b[39m\u001b[38;5;124mwb\u001b[39m\u001b[38;5;124m\"\u001b[39m)\n\u001b[0;32m-> 1511\u001b[0m rc \u001b[38;5;241m=\u001b[39m \u001b[38;5;28;43mself\u001b[39;49m\u001b[38;5;241;43m.\u001b[39;49m\u001b[38;5;18;43m__class__\u001b[39;49m\u001b[38;5;241;43m.\u001b[39;49m\u001b[43mRunningCommandCls\u001b[49m\u001b[43m(\u001b[49m\u001b[43mcmd\u001b[49m\u001b[43m,\u001b[49m\u001b[43m \u001b[49m\u001b[43mcall_args\u001b[49m\u001b[43m,\u001b[49m\u001b[43m \u001b[49m\u001b[43mstdin\u001b[49m\u001b[43m,\u001b[49m\u001b[43m \u001b[49m\u001b[43mstdout\u001b[49m\u001b[43m,\u001b[49m\u001b[43m \u001b[49m\u001b[43mstderr\u001b[49m\u001b[43m)\u001b[49m\n\u001b[1;32m   1512\u001b[0m \u001b[38;5;28;01mif\u001b[39;00m rc\u001b[38;5;241m.\u001b[39m_spawned_and_waited \u001b[38;5;129;01mand\u001b[39;00m \u001b[38;5;129;01mnot\u001b[39;00m call_args[\u001b[38;5;124m\"\u001b[39m\u001b[38;5;124mreturn_cmd\u001b[39m\u001b[38;5;124m\"\u001b[39m]:\n\u001b[1;32m   1513\u001b[0m     \u001b[38;5;28;01mreturn\u001b[39;00m \u001b[38;5;28mstr\u001b[39m(rc)\n",
      "File \u001b[0;32m~/Documents/datasets/.venv/lib/python3.11/site-packages/sh.py:734\u001b[0m, in \u001b[0;36mRunningCommand.__init__\u001b[0;34m(self, cmd, call_args, stdin, stdout, stderr)\u001b[0m\n\u001b[1;32m    731\u001b[0m \u001b[38;5;28mself\u001b[39m\u001b[38;5;241m.\u001b[39mlog\u001b[38;5;241m.\u001b[39minfo(\u001b[38;5;124m\"\u001b[39m\u001b[38;5;124mprocess started\u001b[39m\u001b[38;5;124m\"\u001b[39m)\n\u001b[1;32m    733\u001b[0m \u001b[38;5;28;01mif\u001b[39;00m should_wait:\n\u001b[0;32m--> 734\u001b[0m     \u001b[38;5;28;43mself\u001b[39;49m\u001b[38;5;241;43m.\u001b[39;49m\u001b[43mwait\u001b[49m\u001b[43m(\u001b[49m\u001b[43m)\u001b[49m\n",
      "File \u001b[0;32m~/Documents/datasets/.venv/lib/python3.11/site-packages/sh.py:796\u001b[0m, in \u001b[0;36mRunningCommand.wait\u001b[0;34m(self, timeout)\u001b[0m\n\u001b[1;32m    793\u001b[0m     \u001b[38;5;28;01mraise\u001b[39;00m TimeoutException(\u001b[38;5;241m-\u001b[39mexit_code, \u001b[38;5;28mself\u001b[39m\u001b[38;5;241m.\u001b[39mran)\n\u001b[1;32m    795\u001b[0m \u001b[38;5;28;01melse\u001b[39;00m:\n\u001b[0;32m--> 796\u001b[0m     \u001b[38;5;28;43mself\u001b[39;49m\u001b[38;5;241;43m.\u001b[39;49m\u001b[43mhandle_command_exit_code\u001b[49m\u001b[43m(\u001b[49m\u001b[43mexit_code\u001b[49m\u001b[43m)\u001b[49m\n\u001b[1;32m    798\u001b[0m     \u001b[38;5;66;03m# if an iterable command is using an instance of OProc for its stdin,\u001b[39;00m\n\u001b[1;32m    799\u001b[0m     \u001b[38;5;66;03m# wait on it.  the process is probably set to \"piped\", which means it\u001b[39;00m\n\u001b[1;32m    800\u001b[0m     \u001b[38;5;66;03m# won't be waited on, which means exceptions won't propagate up to the\u001b[39;00m\n\u001b[1;32m    801\u001b[0m     \u001b[38;5;66;03m# main thread.  this allows them to bubble up\u001b[39;00m\n\u001b[1;32m    802\u001b[0m     \u001b[38;5;28;01mif\u001b[39;00m \u001b[38;5;28mself\u001b[39m\u001b[38;5;241m.\u001b[39mprocess\u001b[38;5;241m.\u001b[39m_stdin_process:\n",
      "File \u001b[0;32m~/Documents/datasets/.venv/lib/python3.11/site-packages/sh.py:823\u001b[0m, in \u001b[0;36mRunningCommand.handle_command_exit_code\u001b[0;34m(self, code)\u001b[0m\n\u001b[1;32m    819\u001b[0m \u001b[38;5;28;01mif\u001b[39;00m exc_class:\n\u001b[1;32m    820\u001b[0m     exc \u001b[38;5;241m=\u001b[39m exc_class(\n\u001b[1;32m    821\u001b[0m         \u001b[38;5;28mself\u001b[39m\u001b[38;5;241m.\u001b[39mran, \u001b[38;5;28mself\u001b[39m\u001b[38;5;241m.\u001b[39mprocess\u001b[38;5;241m.\u001b[39mstdout, \u001b[38;5;28mself\u001b[39m\u001b[38;5;241m.\u001b[39mprocess\u001b[38;5;241m.\u001b[39mstderr, ca[\u001b[38;5;124m\"\u001b[39m\u001b[38;5;124mtruncate_exc\u001b[39m\u001b[38;5;124m\"\u001b[39m]\n\u001b[1;32m    822\u001b[0m     )\n\u001b[0;32m--> 823\u001b[0m     \u001b[38;5;28;01mraise\u001b[39;00m exc\n",
      "\u001b[0;31mErrorReturnCode_1\u001b[0m: \n\n  RAN: /usr/bin/gunzip data/geom_drugs/EDM.tar.gz\n\n  STDOUT:\n\n\n  STDERR:\ngunzip: data/geom_drugs/EDM.tar.gz: unexpected end of file\ngunzip: data/geom_drugs/EDM.tar.gz: uncompress failed\n"
     ]
    }
   ],
   "source": [
    "for graph in dataset:\n",
    "    print(graph)"
   ]
  }
 ],
 "metadata": {
  "kernelspec": {
   "display_name": ".venv",
   "language": "python",
   "name": "python3"
  },
  "language_info": {
   "codemirror_mode": {
    "name": "ipython",
    "version": 3
   },
   "file_extension": ".py",
   "mimetype": "text/x-python",
   "name": "python",
   "nbconvert_exporter": "python",
   "pygments_lexer": "ipython3",
   "version": "3.11.4"
  }
 },
 "nbformat": 4,
 "nbformat_minor": 2
}
