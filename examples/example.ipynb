{
 "cells": [
  {
   "cell_type": "code",
   "execution_count": 1,
   "metadata": {},
   "outputs": [],
   "source": [
    "import tqdm\n",
    "\n",
    "from atomic_datasets import QM9Dataset, tmQMDataset, GEOMDrugsDataset"
   ]
  },
  {
   "cell_type": "code",
   "execution_count": 2,
   "metadata": {},
   "outputs": [],
   "source": [
    "dataset = QM9Dataset(\n",
    "    root_dir=\"data/qm9\",\n",
    "    check_with_rdkit=False\n",
    ")\n",
    "\n",
    "dataset = tmQMDataset(\n",
    "    root_dir=\"data/tmqm\",\n",
    ")\n",
    "\n",
    "dataset = GEOMDrugsDataset(\n",
    "    root_dir=\"data/geom_drugs\",\n",
    ")"
   ]
  },
  {
   "cell_type": "code",
   "execution_count": null,
   "metadata": {},
   "outputs": [],
   "source": [
    "for graph in dataset:\n",
    "    print(graph)"
   ]
  }
 ],
 "metadata": {
  "kernelspec": {
   "display_name": ".venv",
   "language": "python",
   "name": "python3"
  },
  "language_info": {
   "codemirror_mode": {
    "name": "ipython",
    "version": 3
   },
   "file_extension": ".py",
   "mimetype": "text/x-python",
   "name": "python",
   "nbconvert_exporter": "python",
   "pygments_lexer": "ipython3",
   "version": "3.11.4"
  }
 },
 "nbformat": 4,
 "nbformat_minor": 2
}
