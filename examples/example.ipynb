{
 "cells": [
  {
   "cell_type": "code",
   "execution_count": 1,
   "metadata": {},
   "outputs": [],
   "source": [
    "import tqdm\n",
    "\n",
    "from atomic_datasets import QM9Dataset, tmQMDataset, GEOMDrugsDataset"
   ]
  },
  {
   "cell_type": "code",
   "execution_count": 2,
   "metadata": {},
   "outputs": [],
   "source": [
    "dataset = QM9Dataset(\n",
    "    root_dir=\"data/qm9\",\n",
    "    check_with_rdkit=False,\n",
    "    remove_uncharacterized_molecules=True,\n",
    "    max_num_molecules=100,\n",
    ")\n",
    "\n",
    "dataset = tmQMDataset(\n",
    "    root_dir=\"data/tmqm\",\n",
    ")\n",
    "\n",
    "dataset = GEOMDrugsDataset(\n",
    "    root_dir=\"data/geom_drugs\",\n",
    ")"
   ]
  },
  {
   "cell_type": "code",
   "execution_count": null,
   "metadata": {},
   "outputs": [],
   "source": [
    "for graph in dataset:\n",
    "    print(graph)"
   ]
  },
  {
   "cell_type": "markdown",
   "metadata": {},
   "source": [
    "Here, we see how to use `atomic_datasets` with PyTorch Geometric:"
   ]
  },
  {
   "cell_type": "code",
   "execution_count": null,
   "metadata": {},
   "outputs": [],
   "source": [
    "from typing import Optional, Callable\n",
    "\n",
    "import torch.utils.data\n",
    "import torch_geometric.data\n",
    "\n",
    "\n",
    "class QM9(torch.utils.data.Dataset):\n",
    "    \"\"\"QM9 dataset in PyTorch Geometric format.\"\"\"\n",
    "\n",
    "    def __init__(self, root_dir, transform: Optional[Callable] = None):\n",
    "        super(QM9, self).__init__()\n",
    "        self.dataset = QM9Dataset(root_dir, check_with_rdkit=False)\n",
    "        self.transform = transform\n",
    "\n",
    "    def __len__(self):\n",
    "        return len(self.dataset)\n",
    "\n",
    "    def __getitem__(self, idx):\n",
    "        sample = self.dataset[idx]\n",
    "        sample = torch_geometric.data.Data(\n",
    "            pos=torch.as_tensor(sample['nodes']['positions']),\n",
    "            species=torch.as_tensor(sample['nodes']['species']),\n",
    "        )\n",
    "        if self.transform:\n",
    "            sample = self.transform(sample)\n",
    "        return sample\n"
   ]
  }
 ],
 "metadata": {
  "kernelspec": {
   "display_name": ".venv",
   "language": "python",
   "name": "python3"
  },
  "language_info": {
   "codemirror_mode": {
    "name": "ipython",
    "version": 3
   },
   "file_extension": ".py",
   "mimetype": "text/x-python",
   "name": "python",
   "nbconvert_exporter": "python",
   "pygments_lexer": "ipython3",
   "version": "3.11.4"
  }
 },
 "nbformat": 4,
 "nbformat_minor": 2
}
