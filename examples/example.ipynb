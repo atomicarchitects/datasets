{
 "cells": [
  {
   "cell_type": "code",
   "execution_count": 1,
   "metadata": {},
   "outputs": [],
   "source": [
    "import tqdm\n",
    "\n",
    "from atomic_datasets import QM9, tmQM, GEOMDrugs, MiniproteinsAlphaCarbons"
   ]
  },
  {
   "cell_type": "code",
   "execution_count": 2,
   "metadata": {},
   "outputs": [],
   "source": [
    "# dataset = QM9(\n",
    "#     root_dir=\"data/qm9\",\n",
    "#     check_with_rdkit=False,\n",
    "#     start_index=0,\n",
    "#     end_index=1000,\n",
    "# )\n",
    "\n",
    "dataset = tmQM(\n",
    "    root_dir=\"data/tmqm\",\n",
    ")\n",
    "\n",
    "dataset = MiniproteinsAlphaCarbons(\n",
    "    root_dir=\"data/miniproteins_alpha_carbon\",\n",
    "    start_index=0,\n",
    "    end_index=1000,\n",
    ")\n",
    "\n",
    "# dataset = GEOMDrugs(\n",
    "#     root_dir=\"data/geom_drugs\",\n",
    "# )"
   ]
  },
  {
   "cell_type": "code",
   "execution_count": null,
   "metadata": {},
   "outputs": [
    {
     "name": "stdout",
     "output_type": "stream",
     "text": [
      "{'nodes': {'positions': array([[-1.1380e+00,  8.4500e-01,  6.6720e+00],\n",
      "       [ 2.2410e+00,  2.4260e+00,  5.9460e+00],\n",
      "       [ 5.1970e+00,  7.9900e-01,  4.1930e+00],\n",
      "       [ 8.8320e+00,  1.5560e+00,  5.0020e+00],\n",
      "       [ 1.1511e+01,  1.0130e+00,  2.3590e+00],\n",
      "       [ 1.5254e+01,  1.1390e+00,  3.0050e+00],\n",
      "       [ 1.7528e+01,  1.6850e+00,  7.0000e-03],\n",
      "       [ 2.0855e+01,  1.2300e-01,  9.6700e-01],\n",
      "       [ 2.4111e+01, -5.3600e-01, -8.8400e-01],\n",
      "       [ 2.3085e+01, -3.9780e+00, -2.1310e+00],\n",
      "       [ 1.9949e+01, -4.7190e+00, -1.1600e-01],\n",
      "       [ 1.6399e+01, -3.5570e+00,  5.6400e-01],\n",
      "       [ 1.4542e+01, -3.6600e+00,  3.8790e+00],\n",
      "       [ 1.0755e+01, -3.6490e+00,  4.2210e+00],\n",
      "       [ 8.5680e+00, -2.8890e+00,  7.2340e+00],\n",
      "       [ 4.8060e+00, -2.6050e+00,  7.7070e+00],\n",
      "       [ 3.0480e+00, -4.9400e-01,  1.0336e+01],\n",
      "       [-4.2100e-01,  8.7200e-01,  1.1078e+01],\n",
      "       [ 4.6700e-01,  4.5320e+00,  1.1589e+01],\n",
      "       [ 2.8400e+00,  6.8950e+00,  9.7920e+00],\n",
      "       [ 4.0320e+00,  7.7990e+00,  1.3284e+01],\n",
      "       [ 5.2730e+00,  4.2230e+00,  1.3622e+01],\n",
      "       [ 6.8120e+00,  4.2870e+00,  1.0148e+01],\n",
      "       [ 8.9060e+00,  7.2960e+00,  1.1151e+01],\n",
      "       [ 1.0074e+01,  5.5260e+00,  1.4306e+01],\n",
      "       [ 1.1009e+01,  2.4960e+00,  1.2211e+01],\n",
      "       [ 1.3037e+01,  4.6610e+00,  9.8320e+00],\n",
      "       [ 1.4823e+01,  6.1390e+00,  1.2844e+01],\n",
      "       [ 1.5509e+01,  2.6210e+00,  1.4113e+01],\n",
      "       [ 1.7006e+01,  1.7830e+00,  1.0724e+01],\n",
      "       [ 1.9258e+01,  4.8370e+00,  1.0957e+01],\n",
      "       [ 2.0477e+01,  3.6500e+00,  1.4358e+01],\n",
      "       [ 2.1247e+01,  2.2600e-01,  1.2893e+01],\n",
      "       [ 2.2583e+01,  1.7180e+00,  9.6620e+00],\n",
      "       [ 2.4718e+01,  4.8150e+00,  1.0219e+01],\n",
      "       [ 2.4997e+01,  4.8990e+00,  6.4270e+00],\n",
      "       [ 2.1535e+01,  6.4700e+00,  6.3970e+00],\n",
      "       [ 2.1746e+01,  1.0095e+01,  5.2730e+00],\n",
      "       [ 1.8167e+01,  1.1008e+01,  4.3970e+00],\n",
      "       [ 1.4718e+01,  9.9640e+00,  5.6000e+00],\n",
      "       [ 1.1515e+01,  1.1008e+01,  3.8380e+00],\n",
      "       [ 8.2920e+00,  1.0487e+01,  5.7840e+00],\n",
      "       [ 4.8670e+00,  1.0590e+01,  4.1420e+00],\n",
      "       [ 1.3350e+00,  9.2850e+00,  4.6530e+00],\n",
      "       [ 1.5560e+00,  6.2450e+00,  2.3830e+00],\n",
      "       [ 5.1780e+00,  5.2160e+00,  2.8870e+00],\n",
      "       [ 8.5850e+00,  6.1500e+00,  4.2760e+00],\n",
      "       [ 1.1853e+01,  6.1320e+00,  2.3340e+00],\n",
      "       [ 1.5276e+01,  5.6710e+00,  3.9200e+00],\n",
      "       [ 1.8346e+01,  6.4160e+00,  1.8080e+00],\n",
      "       [ 2.1821e+01,  5.0970e+00,  2.6030e+00],\n",
      "       [ 2.5114e+01,  6.4240e+00,  1.2530e+00]], dtype=float32), 'species': array([0, 0, 0, 0, 0, 0, 0, 0, 0, 0, 0, 0, 0, 0, 0, 0, 0, 0, 0, 0, 0, 0,\n",
      "       0, 0, 0, 0, 0, 0, 0, 0, 0, 0, 0, 0, 0, 0, 0, 0, 0, 0, 0, 0, 0, 0,\n",
      "       0, 0, 0, 0, 0, 0, 0, 0]), 'atom_types': array(['CA', 'CA', 'CA', 'CA', 'CA', 'CA', 'CA', 'CA', 'CA', 'CA', 'CA',\n",
      "       'CA', 'CA', 'CA', 'CA', 'CA', 'CA', 'CA', 'CA', 'CA', 'CA', 'CA',\n",
      "       'CA', 'CA', 'CA', 'CA', 'CA', 'CA', 'CA', 'CA', 'CA', 'CA', 'CA',\n",
      "       'CA', 'CA', 'CA', 'CA', 'CA', 'CA', 'CA', 'CA', 'CA', 'CA', 'CA',\n",
      "       'CA', 'CA', 'CA', 'CA', 'CA', 'CA', 'CA', 'CA'], dtype='<U6')}, 'edges': None, 'receivers': None, 'senders': None, 'globals': {'aa_sequence': array(['K', 'V', 'R', 'V', 'Q', 'V', 'N', 'G', 'D', 'N', 'F', 'T', 'L',\n",
      "       'E', 'Y', 'H', 'V', 'D', 'K', 'P', 'E', 'Q', 'A', 'K', 'K', 'V',\n",
      "       'A', 'E', 'D', 'V', 'K', 'R', 'K', 'Y', 'P', 'K', 'V', 'K', 'E',\n",
      "       'I', 'R', 'V', 'S', 'D', 'D', 'S', 'V', 'T', 'V', 'Q', 'L', 'S'],\n",
      "      dtype='<U1'), 'num_residues': 52, 'file_name': 'BG_ems/BG_ems_00001.pdb\\n'}, 'n_node': array([52]), 'n_edge': None}\n"
     ]
    }
   ],
   "source": [
    "for graph in dataset:\n",
    "    print(graph)"
   ]
  },
  {
   "cell_type": "markdown",
   "metadata": {},
   "source": [
    "Here, we see how to use `atomic_datasets` with PyTorch Geometric:"
   ]
  },
  {
   "cell_type": "code",
   "execution_count": 4,
   "metadata": {},
   "outputs": [
    {
     "ename": "ModuleNotFoundError",
     "evalue": "No module named 'torch'",
     "output_type": "error",
     "traceback": [
      "\u001b[0;31m---------------------------------------------------------------------------\u001b[0m",
      "\u001b[0;31mModuleNotFoundError\u001b[0m                       Traceback (most recent call last)",
      "Cell \u001b[0;32mIn[4], line 3\u001b[0m\n\u001b[1;32m      1\u001b[0m \u001b[38;5;28;01mfrom\u001b[39;00m\u001b[38;5;250m \u001b[39m\u001b[38;5;21;01mtyping\u001b[39;00m\u001b[38;5;250m \u001b[39m\u001b[38;5;28;01mimport\u001b[39;00m Optional, Callable\n\u001b[0;32m----> 3\u001b[0m \u001b[38;5;28;01mimport\u001b[39;00m\u001b[38;5;250m \u001b[39m\u001b[38;5;21;01mtorch\u001b[39;00m\u001b[38;5;21;01m.\u001b[39;00m\u001b[38;5;21;01mutils\u001b[39;00m\u001b[38;5;21;01m.\u001b[39;00m\u001b[38;5;21;01mdata\u001b[39;00m\n\u001b[1;32m      4\u001b[0m \u001b[38;5;28;01mimport\u001b[39;00m\u001b[38;5;250m \u001b[39m\u001b[38;5;21;01mtorch_geometric\u001b[39;00m\u001b[38;5;21;01m.\u001b[39;00m\u001b[38;5;21;01mdata\u001b[39;00m\n\u001b[1;32m      7\u001b[0m \u001b[38;5;28;01mclass\u001b[39;00m\u001b[38;5;250m \u001b[39m\u001b[38;5;21;01mQM9PyG\u001b[39;00m(torch\u001b[38;5;241m.\u001b[39mutils\u001b[38;5;241m.\u001b[39mdata\u001b[38;5;241m.\u001b[39mDataset):\n",
      "\u001b[0;31mModuleNotFoundError\u001b[0m: No module named 'torch'"
     ]
    }
   ],
   "source": [
    "from typing import Optional, Callable\n",
    "\n",
    "import torch.utils.data\n",
    "import torch_geometric.data\n",
    "\n",
    "\n",
    "class QM9PyG(torch.utils.data.Dataset):\n",
    "    \"\"\"QM9 dataset in PyTorch Geometric format.\"\"\"\n",
    "\n",
    "    def __init__(self, root_dir, transform: Optional[Callable] = None):\n",
    "        super(QM9, self).__init__()\n",
    "        self.dataset = QM9(root_dir, check_with_rdkit=False)\n",
    "        self.transform = transform\n",
    "\n",
    "    def __len__(self):\n",
    "        return len(self.dataset)\n",
    "\n",
    "    def __getitem__(self, idx):\n",
    "        sample = self.dataset[idx]\n",
    "        sample = torch_geometric.data.Data(\n",
    "            pos=torch.as_tensor(sample[\"nodes\"][\"positions\"]),\n",
    "            species=torch.as_tensor(sample[\"nodes\"][\"species\"]),\n",
    "        )\n",
    "        if self.transform:\n",
    "            sample = self.transform(sample)\n",
    "        return sample"
   ]
  }
 ],
 "metadata": {
  "kernelspec": {
   "display_name": ".venv",
   "language": "python",
   "name": "python3"
  },
  "language_info": {
   "codemirror_mode": {
    "name": "ipython",
    "version": 3
   },
   "file_extension": ".py",
   "mimetype": "text/x-python",
   "name": "python",
   "nbconvert_exporter": "python",
   "pygments_lexer": "ipython3",
   "version": "3.11.11"
  }
 },
 "nbformat": 4,
 "nbformat_minor": 2
}
